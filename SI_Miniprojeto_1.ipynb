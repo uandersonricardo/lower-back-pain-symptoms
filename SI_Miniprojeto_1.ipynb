{
  "nbformat": 4,
  "nbformat_minor": 0,
  "metadata": {
    "colab": {
      "name": "SI Miniprojeto 1.ipynb",
      "provenance": [],
      "collapsed_sections": [],
      "include_colab_link": true
    },
    "kernelspec": {
      "name": "python3",
      "display_name": "Python 3"
    },
    "language_info": {
      "name": "python"
    }
  },
  "cells": [
    {
      "cell_type": "markdown",
      "metadata": {
        "id": "view-in-github",
        "colab_type": "text"
      },
      "source": [
        "<a href=\"https://colab.research.google.com/github/uandersonricardo/lower-back-pain-symptoms/blob/main/SI_Miniprojeto_1.ipynb\" target=\"_parent\"><img src=\"https://colab.research.google.com/assets/colab-badge.svg\" alt=\"Open In Colab\"/></a>"
      ]
    },
    {
      "cell_type": "markdown",
      "metadata": {
        "id": "Ky91S2nHs37v"
      },
      "source": [
        "# **Multilayer Perceptron (MLP) para Detecção de Lombalgia**\n",
        "#### Centro de Informática - UFPE\n",
        "#### Miniprojeto 1 - Sistemas Inteligentes\n",
        "\n",
        "#### Prof. Germano Crispim Vasconcelos\n",
        "\n",
        "#### Equipe\n",
        "- Alexandre Burle (aqb)\n",
        "- Danilo Vaz (dvma)\n",
        "- Matheus Andrade (mvtna)\n",
        "- Uanderson Ricardo (urfs)"
      ]
    },
    {
      "cell_type": "markdown",
      "metadata": {
        "id": "rbxKiRmguBXM"
      },
      "source": [
        "# Proposta\n",
        "A proposta do projeto é utilizar redes MLP em cima de um conjunto de dados de **sintomas de lombalgia** com o objetivo de identificar pessoas que podem ter a doença a partir dessas determinadas caracteristicas. O dataset utilizado pode ser acessado através desse [link](https://raw.githubusercontent.com/uandersonricardo/lower-back-pain-symptoms/main/Dataset_spine.csv)."
      ]
    },
    {
      "cell_type": "markdown",
      "metadata": {
        "id": "zWSPVKWBunnt"
      },
      "source": [
        "# Bibliotecas\n",
        "Para o desenvolvimento do projeto, foram utilizadas as seguintes bibliotecas. \n",
        "- Pandas: para manipulação dos dados estruturados durante o pré-processamento;\n",
        "- Tensorflow Keras: criar a rede MLP para solução do problema, utilizando as estruturas Sequential, Dense e Adam;\n",
        "- Numpy: para manipulação dos dados estruturados em forma de matrizes e arrays multidimensionais;\n",
        "- Matplotlib: para visualização dos gráficos referentes ao aprendizado da rede."
      ]
    },
    {
      "cell_type": "code",
      "metadata": {
        "id": "o2pM0jBXeGEI"
      },
      "source": [
        "import tensorflow\n",
        "import pandas as pd\n",
        "from tensorflow.keras.models import Sequential\n",
        "from tensorflow.keras.layers import Dense\n",
        "from tensorflow.keras.optimizers import Adam\n",
        "import numpy as np\n",
        "import matplotlib.pyplot as plt"
      ],
      "execution_count": 2,
      "outputs": []
    },
    {
      "cell_type": "markdown",
      "metadata": {
        "id": "wElreUZBvYf3"
      },
      "source": [
        "# Passo 1 - Dataset\n",
        "Em primeiro lugar, foi feita a importação do dataset (comentado e referenciado na primeira seção deste notebook/documento). Assim, com o dataset importado, pode-se analisar como os dados estão estruturados. Percebe-se que existem 13 colunas de características e uma coluna com a classe (Abnormal ou Normal). Além disso, percebe-se que o dataset está ordenado de acordo com as classes."
      ]
    },
    {
      "cell_type": "code",
      "metadata": {
        "id": "FPxs1lETgm42"
      },
      "source": [
        "url = 'https://raw.githubusercontent.com/uandersonricardo/lower-back-pain-symptoms/main/Dataset_spine.csv'\n",
        "df = pd.read_csv(url)"
      ],
      "execution_count": 3,
      "outputs": []
    },
    {
      "cell_type": "code",
      "metadata": {
        "id": "33Z2aeWsgqje",
        "colab": {
          "base_uri": "https://localhost:8080/",
          "height": 204
        },
        "outputId": "95cb4411-f30e-477e-c657-dec94b8b5c80"
      },
      "source": [
        "df.head()"
      ],
      "execution_count": 4,
      "outputs": [
        {
          "output_type": "execute_result",
          "data": {
            "text/html": [
              "<div>\n",
              "<style scoped>\n",
              "    .dataframe tbody tr th:only-of-type {\n",
              "        vertical-align: middle;\n",
              "    }\n",
              "\n",
              "    .dataframe tbody tr th {\n",
              "        vertical-align: top;\n",
              "    }\n",
              "\n",
              "    .dataframe thead th {\n",
              "        text-align: right;\n",
              "    }\n",
              "</style>\n",
              "<table border=\"1\" class=\"dataframe\">\n",
              "  <thead>\n",
              "    <tr style=\"text-align: right;\">\n",
              "      <th></th>\n",
              "      <th>Col1</th>\n",
              "      <th>Col2</th>\n",
              "      <th>Col3</th>\n",
              "      <th>Col4</th>\n",
              "      <th>Col5</th>\n",
              "      <th>Col6</th>\n",
              "      <th>Col7</th>\n",
              "      <th>Col8</th>\n",
              "      <th>Col9</th>\n",
              "      <th>Col10</th>\n",
              "      <th>Col11</th>\n",
              "      <th>Col12</th>\n",
              "      <th>Class_att</th>\n",
              "      <th>Unnamed: 13</th>\n",
              "    </tr>\n",
              "  </thead>\n",
              "  <tbody>\n",
              "    <tr>\n",
              "      <th>0</th>\n",
              "      <td>63.027818</td>\n",
              "      <td>22.552586</td>\n",
              "      <td>39.609117</td>\n",
              "      <td>40.475232</td>\n",
              "      <td>98.672917</td>\n",
              "      <td>-0.254400</td>\n",
              "      <td>0.744503</td>\n",
              "      <td>12.5661</td>\n",
              "      <td>14.5386</td>\n",
              "      <td>15.30468</td>\n",
              "      <td>-28.658501</td>\n",
              "      <td>43.5123</td>\n",
              "      <td>Abnormal</td>\n",
              "      <td>NaN</td>\n",
              "    </tr>\n",
              "    <tr>\n",
              "      <th>1</th>\n",
              "      <td>39.056951</td>\n",
              "      <td>10.060991</td>\n",
              "      <td>25.015378</td>\n",
              "      <td>28.995960</td>\n",
              "      <td>114.405425</td>\n",
              "      <td>4.564259</td>\n",
              "      <td>0.415186</td>\n",
              "      <td>12.8874</td>\n",
              "      <td>17.5323</td>\n",
              "      <td>16.78486</td>\n",
              "      <td>-25.530607</td>\n",
              "      <td>16.1102</td>\n",
              "      <td>Abnormal</td>\n",
              "      <td>NaN</td>\n",
              "    </tr>\n",
              "    <tr>\n",
              "      <th>2</th>\n",
              "      <td>68.832021</td>\n",
              "      <td>22.218482</td>\n",
              "      <td>50.092194</td>\n",
              "      <td>46.613539</td>\n",
              "      <td>105.985135</td>\n",
              "      <td>-3.530317</td>\n",
              "      <td>0.474889</td>\n",
              "      <td>26.8343</td>\n",
              "      <td>17.4861</td>\n",
              "      <td>16.65897</td>\n",
              "      <td>-29.031888</td>\n",
              "      <td>19.2221</td>\n",
              "      <td>Abnormal</td>\n",
              "      <td>Prediction is done by using binary classificat...</td>\n",
              "    </tr>\n",
              "    <tr>\n",
              "      <th>3</th>\n",
              "      <td>69.297008</td>\n",
              "      <td>24.652878</td>\n",
              "      <td>44.311238</td>\n",
              "      <td>44.644130</td>\n",
              "      <td>101.868495</td>\n",
              "      <td>11.211523</td>\n",
              "      <td>0.369345</td>\n",
              "      <td>23.5603</td>\n",
              "      <td>12.7074</td>\n",
              "      <td>11.42447</td>\n",
              "      <td>-30.470246</td>\n",
              "      <td>18.8329</td>\n",
              "      <td>Abnormal</td>\n",
              "      <td>NaN</td>\n",
              "    </tr>\n",
              "    <tr>\n",
              "      <th>4</th>\n",
              "      <td>49.712859</td>\n",
              "      <td>9.652075</td>\n",
              "      <td>28.317406</td>\n",
              "      <td>40.060784</td>\n",
              "      <td>108.168725</td>\n",
              "      <td>7.918501</td>\n",
              "      <td>0.543360</td>\n",
              "      <td>35.4940</td>\n",
              "      <td>15.9546</td>\n",
              "      <td>8.87237</td>\n",
              "      <td>-16.378376</td>\n",
              "      <td>24.9171</td>\n",
              "      <td>Abnormal</td>\n",
              "      <td>NaN</td>\n",
              "    </tr>\n",
              "  </tbody>\n",
              "</table>\n",
              "</div>"
            ],
            "text/plain": [
              "        Col1  ...                                        Unnamed: 13\n",
              "0  63.027818  ...                                                NaN\n",
              "1  39.056951  ...                                                NaN\n",
              "2  68.832021  ...  Prediction is done by using binary classificat...\n",
              "3  69.297008  ...                                                NaN\n",
              "4  49.712859  ...                                                NaN\n",
              "\n",
              "[5 rows x 14 columns]"
            ]
          },
          "metadata": {
            "tags": []
          },
          "execution_count": 4
        }
      ]
    },
    {
      "cell_type": "markdown",
      "metadata": {
        "id": "cmWZsPCFAIFL"
      },
      "source": [
        "# Passo 2 - Pré-Processamento\n",
        "Entretanto, como visto nas células anteriores, a estrutura dos dados contém uma classe chamada 'Unnamed: 13' que não fornece nenhuma informação relevante para a detecção da lombalgia. Assim, pode-se removê-la dos dados de modo que facilite a manipulação dos mesmos no processo."
      ]
    },
    {
      "cell_type": "code",
      "metadata": {
        "id": "RRjXbj8Qg9zQ",
        "colab": {
          "base_uri": "https://localhost:8080/",
          "height": 204
        },
        "outputId": "187db1ff-1adc-420d-8d1e-1a8d6605eed1"
      },
      "source": [
        "df = df.drop(['Unnamed: 13'], axis=1)\n",
        "df.head()"
      ],
      "execution_count": 5,
      "outputs": [
        {
          "output_type": "execute_result",
          "data": {
            "text/html": [
              "<div>\n",
              "<style scoped>\n",
              "    .dataframe tbody tr th:only-of-type {\n",
              "        vertical-align: middle;\n",
              "    }\n",
              "\n",
              "    .dataframe tbody tr th {\n",
              "        vertical-align: top;\n",
              "    }\n",
              "\n",
              "    .dataframe thead th {\n",
              "        text-align: right;\n",
              "    }\n",
              "</style>\n",
              "<table border=\"1\" class=\"dataframe\">\n",
              "  <thead>\n",
              "    <tr style=\"text-align: right;\">\n",
              "      <th></th>\n",
              "      <th>Col1</th>\n",
              "      <th>Col2</th>\n",
              "      <th>Col3</th>\n",
              "      <th>Col4</th>\n",
              "      <th>Col5</th>\n",
              "      <th>Col6</th>\n",
              "      <th>Col7</th>\n",
              "      <th>Col8</th>\n",
              "      <th>Col9</th>\n",
              "      <th>Col10</th>\n",
              "      <th>Col11</th>\n",
              "      <th>Col12</th>\n",
              "      <th>Class_att</th>\n",
              "    </tr>\n",
              "  </thead>\n",
              "  <tbody>\n",
              "    <tr>\n",
              "      <th>0</th>\n",
              "      <td>63.027818</td>\n",
              "      <td>22.552586</td>\n",
              "      <td>39.609117</td>\n",
              "      <td>40.475232</td>\n",
              "      <td>98.672917</td>\n",
              "      <td>-0.254400</td>\n",
              "      <td>0.744503</td>\n",
              "      <td>12.5661</td>\n",
              "      <td>14.5386</td>\n",
              "      <td>15.30468</td>\n",
              "      <td>-28.658501</td>\n",
              "      <td>43.5123</td>\n",
              "      <td>Abnormal</td>\n",
              "    </tr>\n",
              "    <tr>\n",
              "      <th>1</th>\n",
              "      <td>39.056951</td>\n",
              "      <td>10.060991</td>\n",
              "      <td>25.015378</td>\n",
              "      <td>28.995960</td>\n",
              "      <td>114.405425</td>\n",
              "      <td>4.564259</td>\n",
              "      <td>0.415186</td>\n",
              "      <td>12.8874</td>\n",
              "      <td>17.5323</td>\n",
              "      <td>16.78486</td>\n",
              "      <td>-25.530607</td>\n",
              "      <td>16.1102</td>\n",
              "      <td>Abnormal</td>\n",
              "    </tr>\n",
              "    <tr>\n",
              "      <th>2</th>\n",
              "      <td>68.832021</td>\n",
              "      <td>22.218482</td>\n",
              "      <td>50.092194</td>\n",
              "      <td>46.613539</td>\n",
              "      <td>105.985135</td>\n",
              "      <td>-3.530317</td>\n",
              "      <td>0.474889</td>\n",
              "      <td>26.8343</td>\n",
              "      <td>17.4861</td>\n",
              "      <td>16.65897</td>\n",
              "      <td>-29.031888</td>\n",
              "      <td>19.2221</td>\n",
              "      <td>Abnormal</td>\n",
              "    </tr>\n",
              "    <tr>\n",
              "      <th>3</th>\n",
              "      <td>69.297008</td>\n",
              "      <td>24.652878</td>\n",
              "      <td>44.311238</td>\n",
              "      <td>44.644130</td>\n",
              "      <td>101.868495</td>\n",
              "      <td>11.211523</td>\n",
              "      <td>0.369345</td>\n",
              "      <td>23.5603</td>\n",
              "      <td>12.7074</td>\n",
              "      <td>11.42447</td>\n",
              "      <td>-30.470246</td>\n",
              "      <td>18.8329</td>\n",
              "      <td>Abnormal</td>\n",
              "    </tr>\n",
              "    <tr>\n",
              "      <th>4</th>\n",
              "      <td>49.712859</td>\n",
              "      <td>9.652075</td>\n",
              "      <td>28.317406</td>\n",
              "      <td>40.060784</td>\n",
              "      <td>108.168725</td>\n",
              "      <td>7.918501</td>\n",
              "      <td>0.543360</td>\n",
              "      <td>35.4940</td>\n",
              "      <td>15.9546</td>\n",
              "      <td>8.87237</td>\n",
              "      <td>-16.378376</td>\n",
              "      <td>24.9171</td>\n",
              "      <td>Abnormal</td>\n",
              "    </tr>\n",
              "  </tbody>\n",
              "</table>\n",
              "</div>"
            ],
            "text/plain": [
              "        Col1       Col2       Col3  ...      Col11    Col12  Class_att\n",
              "0  63.027818  22.552586  39.609117  ... -28.658501  43.5123   Abnormal\n",
              "1  39.056951  10.060991  25.015378  ... -25.530607  16.1102   Abnormal\n",
              "2  68.832021  22.218482  50.092194  ... -29.031888  19.2221   Abnormal\n",
              "3  69.297008  24.652878  44.311238  ... -30.470246  18.8329   Abnormal\n",
              "4  49.712859   9.652075  28.317406  ... -16.378376  24.9171   Abnormal\n",
              "\n",
              "[5 rows x 13 columns]"
            ]
          },
          "metadata": {
            "tags": []
          },
          "execution_count": 5
        }
      ]
    },
    {
      "cell_type": "markdown",
      "metadata": {
        "id": "JeFMi9z4AuKZ"
      },
      "source": [
        "# Passo 3 - Datasets de Treino e Teste\n",
        "Com os dados pré-processados, deve-se separar as amostras em dois grupos diferentes: o dataset de treino e o dataset de teste. Para isso, faz-se o 'shuffle' do dataset pré-processado para embaralhar as amostras, uma vez que, como comentado anteriormente, as amostras estavam ordenadas de acordo com as classes. Logo, é interessante fazer o embaralhamento dos dados de modo que não haja uma sequência de dados no treino. Posteriormente, com o dataset embaralhado, define-se um ponto de quebra nos dados, para separar os datasets. O valor definido aqui foi de 80% dos dados para treino e 20% dos dados para teste."
      ]
    },
    {
      "cell_type": "code",
      "metadata": {
        "id": "IgEqo77bko-8"
      },
      "source": [
        "df_shuffled = df.sample(frac=1)\n",
        "\n",
        "partition = int(len(df) * 0.8)\n",
        "\n",
        "df_train = df_shuffled.iloc[:partition]\n",
        "df_test = df_shuffled.iloc[partition:]"
      ],
      "execution_count": 6,
      "outputs": []
    },
    {
      "cell_type": "markdown",
      "metadata": {
        "id": "SEbvNGBRCM-8"
      },
      "source": [
        "# Passo 4 - Representação da Classe\n",
        "Com os datasets separados, deve-se separar cada um deles entre características e classes (ou X e Y). Para tanto, define-se que as classes (Y_train e Y_test)serão 1 para os dados que apresentarem lombalgia e serão 0 caso contrário. \n",
        "Para as características de entrada, basta remover a coluna correspondente a classe e, então, tem-se os dados de entrada definidos tanto para treino quanto para teste (X_train e X_test, respectivamente). "
      ]
    },
    {
      "cell_type": "code",
      "metadata": {
        "id": "6DOs-mcPhSyG"
      },
      "source": [
        "Y_train = 1 - pd.factorize(df_train['Class_att'])[0]\n",
        "X_train = df_train.drop(['Class_att'], axis=1)\n",
        "\n",
        "Y_test = 1 - pd.factorize(df_test['Class_att'])[0]\n",
        "X_test = df_test.drop(['Class_att'], axis=1)"
      ],
      "execution_count": 7,
      "outputs": []
    },
    {
      "cell_type": "markdown",
      "metadata": {
        "id": "X2CAVv7rDFZZ"
      },
      "source": [
        "# Passo 5 - Estrutura da Rede\n",
        "Com os dados estruturados para serem inseridos na rede, é preciso agora definir a estrutura da rede que será treinada para a identificação da lombalgia a partir dos dados recebidos. Para tanto, foi estruturada uma rede neural sequencial, contendo duas camadas ocultas. \n",
        "A função de ativação para ambas as camadas ocultas são 'relu' e a função de ativação da camada de saída é a sigmoide."
      ]
    },
    {
      "cell_type": "code",
      "metadata": {
        "id": "e-2AvdPPjX1P"
      },
      "source": [
        "input_shape = (12,)\n",
        "\n",
        "model = Sequential()\n",
        "model.add(Dense(128, input_shape=input_shape, activation='relu'))\n",
        "model.add(Dense(64, activation='relu'))\n",
        "model.add(Dense(1, activation='sigmoid'))"
      ],
      "execution_count": 40,
      "outputs": []
    },
    {
      "cell_type": "markdown",
      "metadata": {
        "id": "LOGscQais2Kq"
      },
      "source": [
        "# Passo 6 - Modelo\n",
        "Com a estrutura da rede definida, o modelo precisa de mais alguns parâmetros para, enfim, poder ser treinado e avaliado. Para a aplicação desejada, foi utilizado o otimizador Adam, com uma taxa de aprendizado de 0.0001, e a função de loss Binary Crossentropy. \n",
        "É interessante notar que 20% do dataset de treino foi separado para a validação do modelo, que verifica se o treino está caminhando para um bom resultado.\n",
        "Com a execução da célula a seguir, pode-se ter uma noção da acurácia da rede através dos valores que o método fit retorna.\n"
      ]
    },
    {
      "cell_type": "code",
      "metadata": {
        "id": "sL0lo35Rj0uU"
      },
      "source": [
        "optimizer = Adam(learning_rate=1e-4)\n",
        "model.compile(loss='binary_crossentropy', optimizer=optimizer, metrics=['accuracy'])\n",
        "result = model.fit(X_train, Y_train, epochs=100, verbose=0, validation_split=0.2)"
      ],
      "execution_count": 41,
      "outputs": []
    },
    {
      "cell_type": "markdown",
      "metadata": {
        "id": "OPLgC--nG3SH"
      },
      "source": [
        "# Passo 7 - Análise\n",
        "Entretanto, visualizar o sucesso ou fracasso da rede vai além da acurácia, sobretudo da acurácia no processo de treino. Por isso, deve-se analisar se a rede converge ou não. Logo, verificar os gráficos da função de Loss e da acurácia da rede é uma forma interessante de se analisar o modelo. Desse modo, na célula seguinte, são apresentados quatro gráficos referentes aos atributos 'loss', 'validation loss', 'accuracy' e 'validation accuracy'."
      ]
    },
    {
      "cell_type": "code",
      "metadata": {
        "colab": {
          "base_uri": "https://localhost:8080/",
          "height": 407
        },
        "id": "n0VrlGYo2T-0",
        "outputId": "8bf18493-f963-4dac-d6e7-ddf0a2b24953"
      },
      "source": [
        "fig, ax = plt.subplots(2, 2, figsize=(13, 6))\n",
        "ax[0][0].plot(result.history['loss'])\n",
        "ax[0][0].set_title('Loss')\n",
        "ax[0][1].plot(result.history['accuracy'])\n",
        "ax[0][1].set_title('Accuracy')\n",
        "ax[1][0].plot(result.history['val_loss'])\n",
        "ax[1][0].set_title('Validation Loss')\n",
        "ax[1][1].plot(result.history['val_accuracy'])\n",
        "ax[1][1].set_title('Validation Accuracy')"
      ],
      "execution_count": 42,
      "outputs": [
        {
          "output_type": "execute_result",
          "data": {
            "text/plain": [
              "Text(0.5, 1.0, 'Validation Accuracy')"
            ]
          },
          "metadata": {
            "tags": []
          },
          "execution_count": 42
        },
        {
          "output_type": "display_data",
          "data": {
            "image/png": "[encoded data removed]",
            "text/plain": [
              "<Figure size 936x432 with 4 Axes>"
            ]
          },
          "metadata": {
            "tags": [],
            "needs_background": "light"
          }
        }
      ]
    },
    {
      "cell_type": "markdown",
      "metadata": {
        "id": "tvUCoxxhHv0k"
      },
      "source": [
        "# Passo 8 - Teste\n",
        "Por fim, com o modelo estruturado e treinado, é hora de testá-lo. Para isso, basta utilizar o dataset de teste que foi separado no início deste notebook/documento e usá-lo a avaliação do modelo.\n",
        "Executando a célula a seguir, são apresentados os valores da loss e da acurácia do modelo no dataset de teste.\n"
      ]
    },
    {
      "cell_type": "code",
      "metadata": {
        "id": "7hi8j-ZMefde",
        "colab": {
          "base_uri": "https://localhost:8080/",
          "height": 0
        },
        "outputId": "d0fe8369-061e-430f-cba8-8a8cb45757df"
      },
      "source": [
        "eval = model.evaluate(X_test, Y_test, verbose=0)\n",
        "print(f'Test results - Loss: {eval[0]} - Accuracy: {eval[1]}')"
      ],
      "execution_count": 43,
      "outputs": [
        {
          "output_type": "stream",
          "text": [
            "Test results - Loss: 0.36663690209388733 - Accuracy: 0.8064516186714172\n"
          ],
          "name": "stdout"
        }
      ]
    },
    {
      "cell_type": "markdown",
      "metadata": {
        "id": "s1x4sb7kMWx0"
      },
      "source": [
        "# Passo 9 - Experimentações\n",
        "Testamos diferentes hiperparâmetros em busca de uma performance melhor da rede, tais como arquitetura da rede, função de loss, learning rate, etc.\n",
        "\n",
        "Primeiro, montamos uma arquitetura profunda (deep_model). Ela é composta por 11 camadas ocultas com 128 neurônios. Como o conjunto de dados é pequeno, a rede não performa melhor que a arquitetura principal. Observa-se sinais de overfitting, já que enquanto a loss do treinamento abaixa, a loss da validação aumenta.\n",
        "\n",
        "Em seguida, montamos a arquitetura com alto learning rate (high_lr_model). Escolhemos um learning rate de 0.1. Por ser um valor muito alto, a rede não consegue aprender. Com a atualização dos pesos de forma abrupta, os valores \"passam direto\" do caminho para a otimização da função de loss.\n",
        "\n",
        "Por fim, montamos a arquitetura com função de loss MSE (mse_model). A MSE é uma ótima função de loss, conseguindo inclusive superar a perfomance da binary crossentropy. O problema da MSE usada em conjunto com a saída sigmoide é que ela não funciona como uma função convexa. De tal forma, ficamos sujeitos a ficarmos presos em minímos locais\n"
      ]
    },
    {
      "cell_type": "code",
      "metadata": {
        "colab": {
          "base_uri": "https://localhost:8080/",
          "height": 0
        },
        "id": "U6dz_vP-MvMR",
        "outputId": "25544c14-109f-44b9-9a4c-0a272d98516d"
      },
      "source": [
        "# Rede neural profunda\n",
        "deep_model = Sequential()\n",
        "deep_model.add(Dense(128, input_shape=input_shape, activation='relu'))\n",
        "deep_model.add(Dense(128, activation='relu'))\n",
        "deep_model.add(Dense(128, activation='relu'))\n",
        "deep_model.add(Dense(128, activation='relu'))\n",
        "deep_model.add(Dense(128, activation='relu'))\n",
        "deep_model.add(Dense(128, activation='relu'))\n",
        "deep_model.add(Dense(128, activation='relu'))\n",
        "deep_model.add(Dense(128, activation='relu'))\n",
        "deep_model.add(Dense(128, activation='relu'))\n",
        "deep_model.add(Dense(128, activation='relu'))\n",
        "deep_model.add(Dense(128, activation='relu'))\n",
        "deep_model.add(Dense(1, activation='sigmoid'))\n",
        "\n",
        "deep_optimizer = Adam(learning_rate=1e-4)\n",
        "deep_model.compile(loss='binary_crossentropy', optimizer=deep_optimizer, metrics=['accuracy'])\n",
        "deep_result = deep_model.fit(X_train, Y_train, epochs=100, verbose=0, validation_split=0.2)\n",
        "\n",
        "deep_eval = deep_model.evaluate(X_test, Y_test, verbose=0)\n",
        "print(f'Test results - Loss: {deep_eval[0]} - Accuracy: {deep_eval[1]}')"
      ],
      "execution_count": 44,
      "outputs": [
        {
          "output_type": "stream",
          "text": [
            "Test results - Loss: 0.5702855587005615 - Accuracy: 0.8064516186714172\n"
          ],
          "name": "stdout"
        }
      ]
    },
    {
      "cell_type": "code",
      "metadata": {
        "colab": {
          "base_uri": "https://localhost:8080/",
          "height": 0
        },
        "id": "26ShUZ9GOA5y",
        "outputId": "ddef8575-d2e4-4f21-9c7d-d3023b47f633"
      },
      "source": [
        "# Rede neural com alto learning rate\n",
        "high_lr_model = Sequential()\n",
        "high_lr_model.add(Dense(128, input_shape=input_shape, activation='relu'))\n",
        "high_lr_model.add(Dense(64, activation='relu'))\n",
        "high_lr_model.add(Dense(1, activation='sigmoid'))\n",
        "\n",
        "high_lr_optimizer = Adam(learning_rate=1e-1)\n",
        "high_lr_model.compile(loss='binary_crossentropy', optimizer=high_lr_optimizer, metrics=['accuracy'])\n",
        "high_lr_result = high_lr_model.fit(X_train, Y_train, epochs=100, verbose=0, validation_split=0.2)\n",
        "\n",
        "high_lr_eval = high_lr_model.evaluate(X_test, Y_test, verbose=0)\n",
        "print(f'Test results - Loss: {high_lr_eval[0]} - Accuracy: {high_lr_eval[1]}')"
      ],
      "execution_count": 45,
      "outputs": [
        {
          "output_type": "stream",
          "text": [
            "Test results - Loss: 0.581626832485199 - Accuracy: 0.6935483813285828\n"
          ],
          "name": "stdout"
        }
      ]
    },
    {
      "cell_type": "code",
      "metadata": {
        "colab": {
          "base_uri": "https://localhost:8080/",
          "height": 0
        },
        "id": "hn_K0wRhOcts",
        "outputId": "bd00f30c-5f7c-47bd-d91c-53945cf5d1c9"
      },
      "source": [
        "# Rede neural com a função de loss MSE\n",
        "mse_model = Sequential()\n",
        "mse_model.add(Dense(128, input_shape=input_shape, activation='relu'))\n",
        "mse_model.add(Dense(64, activation='relu'))\n",
        "mse_model.add(Dense(1, activation='sigmoid'))\n",
        "\n",
        "mse_optimizer = Adam(learning_rate=1e-4)\n",
        "mse_model.compile(loss='mean_squared_error', optimizer=mse_optimizer, metrics=['accuracy'])\n",
        "mse_result = mse_model.fit(X_train, Y_train, epochs=100, verbose=0, validation_split=0.2)\n",
        "\n",
        "mse_eval = mse_model.evaluate(X_test, Y_test, verbose=0)\n",
        "print(f'Test results - Loss: {mse_eval[0]} - Accuracy: {mse_eval[1]}')"
      ],
      "execution_count": 46,
      "outputs": [
        {
          "output_type": "stream",
          "text": [
            "Test results - Loss: 0.1152167022228241 - Accuracy: 0.8548387289047241\n"
          ],
          "name": "stdout"
        }
      ]
    },
    {
      "cell_type": "code",
      "metadata": {
        "colab": {
          "base_uri": "https://localhost:8080/",
          "height": 407
        },
        "id": "3Cuh4v47Pb5K",
        "outputId": "b18dceda-78b0-48c9-85ea-e96205c92342"
      },
      "source": [
        "fig, ax = plt.subplots(2, 2, figsize=(13, 6))\n",
        "\n",
        "ax[0][0].plot(result.history['loss'], color='blue', linestyle='solid', label='Principal')\n",
        "ax[0][0].plot(deep_result.history['loss'], color='green', linestyle='solid', label='Profunda')\n",
        "ax[0][0].plot(high_lr_result.history['loss'], color='red', linestyle='solid', label='LR alta')\n",
        "ax[0][0].plot(mse_result.history['loss'], color='purple', linestyle='solid', label='MSE')\n",
        "ax[0][0].set_title('Loss')\n",
        "ax[0][0].legend()\n",
        "\n",
        "ax[0][1].plot(result.history['accuracy'], color='blue', linestyle='solid', label='Principal')\n",
        "ax[0][1].plot(deep_result.history['accuracy'], color='green', linestyle='solid', label='Profunda')\n",
        "ax[0][1].plot(high_lr_result.history['accuracy'], color='red', linestyle='solid', label='LR alta')\n",
        "ax[0][1].plot(mse_result.history['accuracy'], color='purple', linestyle='solid', label='MSE')\n",
        "ax[0][1].set_title('Accuracy')\n",
        "ax[0][1].legend()\n",
        "\n",
        "ax[1][0].plot(result.history['val_loss'], color='blue', linestyle='solid', label='Principal')\n",
        "ax[1][0].plot(deep_result.history['val_loss'], color='green', linestyle='solid', label='Profunda')\n",
        "ax[1][0].plot(high_lr_result.history['val_loss'], color='red', linestyle='solid', label='LR alta')\n",
        "ax[1][0].plot(mse_result.history['val_loss'], color='purple', linestyle='solid', label='MSE')\n",
        "ax[1][0].set_title('Validation Loss')\n",
        "ax[1][0].legend()\n",
        "\n",
        "ax[1][1].plot(result.history['val_accuracy'], color='blue', linestyle='solid', label='Principal')\n",
        "ax[1][1].plot(deep_result.history['val_accuracy'], color='green', linestyle='solid', label='Profunda')\n",
        "ax[1][1].plot(high_lr_result.history['val_accuracy'], color='red', linestyle='solid', label='LR alta')\n",
        "ax[1][1].plot(mse_result.history['val_accuracy'], color='purple', linestyle='solid', label='MSE')\n",
        "ax[1][1].set_title('Validation Accuracy')\n",
        "ax[1][1].legend()"
      ],
      "execution_count": 50,
      "outputs": [
        {
          "output_type": "execute_result",
          "data": {
            "text/plain": [
              "<matplotlib.legend.Legend at 0x7f8d474926d0>"
            ]
          },
          "metadata": {
            "tags": []
          },
          "execution_count": 50
        },
        {
          "output_type": "display_data",
          "data": {
            "image/png": "[encoded data removed]",
            "text/plain": [
              "<Figure size 936x432 with 4 Axes>"
            ]
          },
          "metadata": {
            "tags": [],
            "needs_background": "light"
          }
        }
      ]
    }
  ]
}